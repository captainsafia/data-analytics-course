{
 "cells": [
  {
   "cell_type": "markdown",
   "metadata": {},
   "source": [
    "# What does @captainsafia do?"
   ]
  },
  {
   "cell_type": "markdown",
   "metadata": {},
   "source": [
    "# @PyLadiesChicago"
   ]
  },
  {
   "cell_type": "markdown",
   "metadata": {},
   "source": [
    "# @ChickTechChi"
   ]
  },
  {
   "cell_type": "markdown",
   "metadata": {},
   "source": [
    "# @dsfaco"
   ]
  },
  {
   "cell_type": "markdown",
   "metadata": {},
   "source": [
    "# @ProjectJupyter"
   ]
  },
  {
   "cell_type": "markdown",
   "metadata": {},
   "source": [
    "       "
   ]
  },
  {
   "cell_type": "markdown",
   "metadata": {},
   "source": [
    "## Let's Fetch Some Data"
   ]
  },
  {
   "cell_type": "markdown",
   "metadata": {},
   "source": [
    "Download the data set that we will be using for this course at [this link](http://bit.ly/da-crimes-sample). This data set is a collection of criminal activity in Chicago from January 1st, 2015 to October 24th, 2015."
   ]
  },
  {
   "cell_type": "code",
   "execution_count": 2,
   "metadata": {
    "collapsed": true
   },
   "outputs": [],
   "source": [
    "import pandas as pd"
   ]
  },
  {
   "cell_type": "code",
   "execution_count": 3,
   "metadata": {
    "collapsed": false
   },
   "outputs": [],
   "source": [
    "crimes = pd.read_csv(\"data/crimes_chicago.csv\")"
   ]
  },
  {
   "cell_type": "markdown",
   "metadata": {},
   "source": [
    "Let's examine what the data set looks like using the `head` command."
   ]
  },
  {
   "cell_type": "code",
   "execution_count": 4,
   "metadata": {
    "collapsed": false
   },
   "outputs": [
    {
     "data": {
      "text/html": [
       "<div>\n",
       "<table border=\"1\" class=\"dataframe\">\n",
       "  <thead>\n",
       "    <tr style=\"text-align: right;\">\n",
       "      <th></th>\n",
       "      <th>ID</th>\n",
       "      <th>Case Number</th>\n",
       "      <th>Date</th>\n",
       "      <th>Block</th>\n",
       "      <th>IUCR</th>\n",
       "      <th>Primary Type</th>\n",
       "      <th>Description</th>\n",
       "      <th>Location Description</th>\n",
       "      <th>Arrest</th>\n",
       "      <th>Domestic</th>\n",
       "      <th>...</th>\n",
       "      <th>Ward</th>\n",
       "      <th>Community Area</th>\n",
       "      <th>FBI Code</th>\n",
       "      <th>X Coordinate</th>\n",
       "      <th>Y Coordinate</th>\n",
       "      <th>Year</th>\n",
       "      <th>Updated On</th>\n",
       "      <th>Latitude</th>\n",
       "      <th>Longitude</th>\n",
       "      <th>Location</th>\n",
       "    </tr>\n",
       "  </thead>\n",
       "  <tbody>\n",
       "    <tr>\n",
       "      <th>0</th>\n",
       "      <td>10288746</td>\n",
       "      <td>HY476724</td>\n",
       "      <td>10/24/2015 11:59:00 PM</td>\n",
       "      <td>016XX E HAYES DR</td>\n",
       "      <td>0610</td>\n",
       "      <td>BURGLARY</td>\n",
       "      <td>FORCIBLE ENTRY</td>\n",
       "      <td>PARK PROPERTY</td>\n",
       "      <td>False</td>\n",
       "      <td>False</td>\n",
       "      <td>...</td>\n",
       "      <td>5</td>\n",
       "      <td>42</td>\n",
       "      <td>05</td>\n",
       "      <td>1188497</td>\n",
       "      <td>1863537</td>\n",
       "      <td>2015</td>\n",
       "      <td>10/31/2015 03:56:20 PM</td>\n",
       "      <td>41.780617</td>\n",
       "      <td>-87.584477</td>\n",
       "      <td>(41.780617401, -87.584477038)</td>\n",
       "    </tr>\n",
       "    <tr>\n",
       "      <th>1</th>\n",
       "      <td>10288063</td>\n",
       "      <td>HY475407</td>\n",
       "      <td>10/24/2015 11:55:00 PM</td>\n",
       "      <td>003XX W 51ST ST</td>\n",
       "      <td>051A</td>\n",
       "      <td>ASSAULT</td>\n",
       "      <td>AGGRAVATED: HANDGUN</td>\n",
       "      <td>ALLEY</td>\n",
       "      <td>False</td>\n",
       "      <td>False</td>\n",
       "      <td>...</td>\n",
       "      <td>3</td>\n",
       "      <td>37</td>\n",
       "      <td>04A</td>\n",
       "      <td>1175009</td>\n",
       "      <td>1871144</td>\n",
       "      <td>2015</td>\n",
       "      <td>10/31/2015 03:56:20 PM</td>\n",
       "      <td>41.801803</td>\n",
       "      <td>-87.633699</td>\n",
       "      <td>(41.801803486, -87.633699142)</td>\n",
       "    </tr>\n",
       "    <tr>\n",
       "      <th>2</th>\n",
       "      <td>10287811</td>\n",
       "      <td>HY476065</td>\n",
       "      <td>10/24/2015 11:50:00 PM</td>\n",
       "      <td>117XX S MARSHFIELD AVE</td>\n",
       "      <td>0820</td>\n",
       "      <td>THEFT</td>\n",
       "      <td>$500 AND UNDER</td>\n",
       "      <td>GROCERY FOOD STORE</td>\n",
       "      <td>False</td>\n",
       "      <td>False</td>\n",
       "      <td>...</td>\n",
       "      <td>34</td>\n",
       "      <td>75</td>\n",
       "      <td>06</td>\n",
       "      <td>1167518</td>\n",
       "      <td>1826850</td>\n",
       "      <td>2015</td>\n",
       "      <td>10/31/2015 03:56:20 PM</td>\n",
       "      <td>41.680418</td>\n",
       "      <td>-87.662438</td>\n",
       "      <td>(41.680418426, -87.662437948)</td>\n",
       "    </tr>\n",
       "    <tr>\n",
       "      <th>3</th>\n",
       "      <td>10287226</td>\n",
       "      <td>HY475363</td>\n",
       "      <td>10/24/2015 11:50:00 PM</td>\n",
       "      <td>083XX S ELLIS AVE</td>\n",
       "      <td>0460</td>\n",
       "      <td>BATTERY</td>\n",
       "      <td>SIMPLE</td>\n",
       "      <td>SIDEWALK</td>\n",
       "      <td>False</td>\n",
       "      <td>False</td>\n",
       "      <td>...</td>\n",
       "      <td>8</td>\n",
       "      <td>44</td>\n",
       "      <td>08B</td>\n",
       "      <td>1184335</td>\n",
       "      <td>1850002</td>\n",
       "      <td>2015</td>\n",
       "      <td>10/31/2015 03:56:20 PM</td>\n",
       "      <td>41.743574</td>\n",
       "      <td>-87.600158</td>\n",
       "      <td>(41.743574495, -87.600158418)</td>\n",
       "    </tr>\n",
       "    <tr>\n",
       "      <th>4</th>\n",
       "      <td>10287210</td>\n",
       "      <td>HY475369</td>\n",
       "      <td>10/24/2015 11:50:00 PM</td>\n",
       "      <td>039XX S CALIFORNIA AVE</td>\n",
       "      <td>0454</td>\n",
       "      <td>BATTERY</td>\n",
       "      <td>AGG PO HANDS NO/MIN INJURY</td>\n",
       "      <td>JAIL / LOCK-UP FACILITY</td>\n",
       "      <td>True</td>\n",
       "      <td>False</td>\n",
       "      <td>...</td>\n",
       "      <td>14</td>\n",
       "      <td>58</td>\n",
       "      <td>08B</td>\n",
       "      <td>1158335</td>\n",
       "      <td>1878579</td>\n",
       "      <td>2015</td>\n",
       "      <td>10/31/2015 03:56:20 PM</td>\n",
       "      <td>41.822562</td>\n",
       "      <td>-87.694647</td>\n",
       "      <td>(41.822562231, -87.694646782)</td>\n",
       "    </tr>\n",
       "  </tbody>\n",
       "</table>\n",
       "<p>5 rows × 22 columns</p>\n",
       "</div>"
      ],
      "text/plain": [
       "         ID Case Number                    Date                   Block  IUCR  \\\n",
       "0  10288746    HY476724  10/24/2015 11:59:00 PM        016XX E HAYES DR  0610   \n",
       "1  10288063    HY475407  10/24/2015 11:55:00 PM         003XX W 51ST ST  051A   \n",
       "2  10287811    HY476065  10/24/2015 11:50:00 PM  117XX S MARSHFIELD AVE  0820   \n",
       "3  10287226    HY475363  10/24/2015 11:50:00 PM       083XX S ELLIS AVE  0460   \n",
       "4  10287210    HY475369  10/24/2015 11:50:00 PM  039XX S CALIFORNIA AVE  0454   \n",
       "\n",
       "  Primary Type                 Description     Location Description Arrest  \\\n",
       "0     BURGLARY              FORCIBLE ENTRY            PARK PROPERTY  False   \n",
       "1      ASSAULT         AGGRAVATED: HANDGUN                    ALLEY  False   \n",
       "2        THEFT              $500 AND UNDER       GROCERY FOOD STORE  False   \n",
       "3      BATTERY                      SIMPLE                 SIDEWALK  False   \n",
       "4      BATTERY  AGG PO HANDS NO/MIN INJURY  JAIL / LOCK-UP FACILITY   True   \n",
       "\n",
       "  Domestic              ...                Ward  Community Area  FBI Code  \\\n",
       "0    False              ...                   5              42        05   \n",
       "1    False              ...                   3              37       04A   \n",
       "2    False              ...                  34              75        06   \n",
       "3    False              ...                   8              44       08B   \n",
       "4    False              ...                  14              58       08B   \n",
       "\n",
       "   X Coordinate Y Coordinate  Year              Updated On   Latitude  \\\n",
       "0       1188497      1863537  2015  10/31/2015 03:56:20 PM  41.780617   \n",
       "1       1175009      1871144  2015  10/31/2015 03:56:20 PM  41.801803   \n",
       "2       1167518      1826850  2015  10/31/2015 03:56:20 PM  41.680418   \n",
       "3       1184335      1850002  2015  10/31/2015 03:56:20 PM  41.743574   \n",
       "4       1158335      1878579  2015  10/31/2015 03:56:20 PM  41.822562   \n",
       "\n",
       "   Longitude                       Location  \n",
       "0 -87.584477  (41.780617401, -87.584477038)  \n",
       "1 -87.633699  (41.801803486, -87.633699142)  \n",
       "2 -87.662438  (41.680418426, -87.662437948)  \n",
       "3 -87.600158  (41.743574495, -87.600158418)  \n",
       "4 -87.694647  (41.822562231, -87.694646782)  \n",
       "\n",
       "[5 rows x 22 columns]"
      ]
     },
     "execution_count": 4,
     "metadata": {},
     "output_type": "execute_result"
    }
   ],
   "source": [
    "crimes.head(5)"
   ]
  },
  {
   "cell_type": "markdown",
   "metadata": {},
   "source": [
    "How many data points do we have?"
   ]
  },
  {
   "cell_type": "code",
   "execution_count": 5,
   "metadata": {
    "collapsed": false
   },
   "outputs": [
    {
     "data": {
      "text/plain": [
       "(211926, 22)"
      ]
     },
     "execution_count": 5,
     "metadata": {},
     "output_type": "execute_result"
    }
   ],
   "source": [
    "crimes.shape"
   ]
  },
  {
   "cell_type": "markdown",
   "metadata": {},
   "source": [
    "Let's examine what columns are avaialble to us in the data set."
   ]
  },
  {
   "cell_type": "code",
   "execution_count": 6,
   "metadata": {
    "collapsed": false
   },
   "outputs": [
    {
     "data": {
      "text/plain": [
       "Index(['ID', 'Case Number', 'Date', 'Block', 'IUCR', 'Primary Type',\n",
       "       'Description', 'Location Description', 'Arrest', 'Domestic', 'Beat',\n",
       "       'District', 'Ward', 'Community Area', 'FBI Code', 'X Coordinate',\n",
       "       'Y Coordinate', 'Year', 'Updated On', 'Latitude', 'Longitude',\n",
       "       'Location'],\n",
       "      dtype='object')"
      ]
     },
     "execution_count": 6,
     "metadata": {},
     "output_type": "execute_result"
    }
   ],
   "source": [
    "crimes.columns"
   ]
  },
  {
   "cell_type": "markdown",
   "metadata": {},
   "source": [
    "Let's rename the column header names to match Python's variable naming convention."
   ]
  },
  {
   "cell_type": "code",
   "execution_count": 7,
   "metadata": {
    "collapsed": false
   },
   "outputs": [],
   "source": [
    "crimes.columns = [header.lower().replace(\" \", \"_\") for header in crimes.columns]"
   ]
  },
  {
   "cell_type": "code",
   "execution_count": 8,
   "metadata": {
    "collapsed": false
   },
   "outputs": [
    {
     "data": {
      "text/plain": [
       "Index(['id', 'case_number', 'date', 'block', 'iucr', 'primary_type',\n",
       "       'description', 'location_description', 'arrest', 'domestic', 'beat',\n",
       "       'district', 'ward', 'community_area', 'fbi_code', 'x_coordinate',\n",
       "       'y_coordinate', 'year', 'updated_on', 'latitude', 'longitude',\n",
       "       'location'],\n",
       "      dtype='object')"
      ]
     },
     "execution_count": 8,
     "metadata": {},
     "output_type": "execute_result"
    }
   ],
   "source": [
    "crimes.columns"
   ]
  },
  {
   "cell_type": "markdown",
   "metadata": {},
   "source": [
    "## What's missing?"
   ]
  },
  {
   "cell_type": "markdown",
   "metadata": {},
   "source": [
    "Let's find out what values are missing from the data set."
   ]
  },
  {
   "cell_type": "code",
   "execution_count": 12,
   "metadata": {
    "collapsed": false
   },
   "outputs": [
    {
     "name": "stdout",
     "output_type": "stream",
     "text": [
      "id : 211926\n",
      "case_number : 211926\n",
      "date : 211926\n",
      "block : 211926\n",
      "iucr : 211926\n",
      "primary_type : 211926\n",
      "description : 211926\n",
      "location_description : 211842\n",
      "arrest : 211926\n",
      "domestic : 211926\n",
      "beat : 211926\n",
      "district : 211926\n",
      "ward : 211924\n",
      "community_area : 211926\n",
      "fbi_code : 211926\n",
      "x_coordinate : 207174\n",
      "y_coordinate : 207174\n",
      "year : 211926\n",
      "updated_on : 211926\n",
      "latitude : 207174\n",
      "longitude : 207174\n",
      "location : 207174\n"
     ]
    }
   ],
   "source": [
    "for column in crimes.columns:\n",
    "    print(column, \":\", crimes[column].count())"
   ]
  },
  {
   "cell_type": "markdown",
   "metadata": {},
   "source": [
    "## Geocoding Data Samples"
   ]
  },
  {
   "cell_type": "markdown",
   "metadata": {},
   "source": [
    "Get an API key for Google Maps. You can get one using Google's Developer Console."
   ]
  },
  {
   "cell_type": "code",
   "execution_count": 14,
   "metadata": {
    "collapsed": true
   },
   "outputs": [],
   "source": [
    "API_KEY = \"\"\n",
    "GEOCODE_URL = lambda addr: \"https://maps.googleapis.com/maps/api/geocode/json?address=\" + \\\n",
    "                                addr.replace(\" \", \"+\") + \"&key=\" + API_KEY"
   ]
  },
  {
   "cell_type": "code",
   "execution_count": 75,
   "metadata": {
    "collapsed": false
   },
   "outputs": [],
   "source": [
    "import urllib.request\n",
    "import json\n",
    "\n",
    "def geocode_addr(addr):\n",
    "    response = urllib.request.urlopen(GEOCODE_URL(addr))\n",
    "    data = json.loads(response.read().decode(\"utf-8\"))\n",
    "    loc = data['results'][0]['geometry']['location']\n",
    "    return loc[\"lat\"], loc[\"lng\"]"
   ]
  },
  {
   "cell_type": "markdown",
   "metadata": {},
   "source": [
    "## Removing Unnecessary Columns"
   ]
  },
  {
   "cell_type": "code",
   "execution_count": 76,
   "metadata": {
    "collapsed": false
   },
   "outputs": [
    {
     "data": {
      "text/plain": [
       "(42.0529139, -87.6788388)"
      ]
     },
     "execution_count": 76,
     "metadata": {},
     "output_type": "execute_result"
    }
   ],
   "source": [
    "geocode_addr(\"1927 Orrington Avenue Chicago, IL 60201\")"
   ]
  },
  {
   "cell_type": "code",
   "execution_count": null,
   "metadata": {
    "collapsed": true
   },
   "outputs": [],
   "source": []
  }
 ],
 "metadata": {
  "kernelspec": {
   "display_name": "Python 3",
   "language": "python",
   "name": "python3"
  },
  "language_info": {
   "codemirror_mode": {
    "name": "ipython",
    "version": 3
   },
   "file_extension": ".py",
   "mimetype": "text/x-python",
   "name": "python",
   "nbconvert_exporter": "python",
   "pygments_lexer": "ipython3",
   "version": "3.4.3"
  }
 },
 "nbformat": 4,
 "nbformat_minor": 0
}
